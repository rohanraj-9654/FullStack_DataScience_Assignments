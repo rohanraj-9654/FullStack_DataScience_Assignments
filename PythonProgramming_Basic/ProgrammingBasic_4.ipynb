{
 "cells": [
  {
   "cell_type": "code",
   "execution_count": 91,
   "metadata": {},
   "outputs": [],
   "source": [
    "class assignment_4:\n",
    "    \n",
    "    def ques1(self):\n",
    "        try:\n",
    "            num = int(input(\"Enter a number:\"))\n",
    "            \n",
    "            if num < 0:\n",
    "                print(\"Factorial of {} is 0\".format(num))\n",
    "            else:\n",
    "                n = num\n",
    "                fac = 1\n",
    "                while num > 1:\n",
    "                    fac = fac * num\n",
    "                    num = num - 1\n",
    "                print(\"Factorial of {0} is {1}\".format(n,fac))\n",
    "            \n",
    "        except Exception as e:\n",
    "            print(\"Error with program: \",e)\n",
    "            \n",
    "##################################          \n",
    "        \n",
    "    def ques2(self):\n",
    "        try:\n",
    "            num1 = int(input(\"Enter a number:\"))\n",
    "            for i in range(1,11):\n",
    "                print(\"{} * {} = {}\".format(num1,i,num1*i))\n",
    "            \n",
    "        except Exception as e:\n",
    "            print(\"Error with program: \",e)\n",
    "            \n",
    "##################################   \n",
    "        \n",
    "    def ques3(self):\n",
    "        try:\n",
    "            n1 = 0\n",
    "            n2 = 1\n",
    "            count = 0\n",
    "            num2 = int(input(\"Total terms for Fibonacci sequence: \"))\n",
    "            while count < num2:\n",
    "                print(n1, end=\" \")\n",
    "                n = n1 + n2\n",
    "                count = count + 1\n",
    "                n1 = n2\n",
    "                n2 = n\n",
    "            \n",
    "        except Exception as e:\n",
    "            print(\"Error with program: \",e)\n",
    "            \n",
    "##################################   \n",
    "        \n",
    "    def ques4(self):\n",
    "        try:\n",
    "            num3 = int(input(\"Enter a number: \"))\n",
    "            order = int(input(\"Enter order of Armstrong number: \"))\n",
    "            sum = 0\n",
    "            temp = num3\n",
    "            while temp > 0:\n",
    "                digit = temp % 10\n",
    "                sum += digit ** order\n",
    "                temp //= 10\n",
    "\n",
    "            if num3 == sum:\n",
    "                print(num3,\"is an Armstrong number\")\n",
    "            else:\n",
    "                print(num3,\"is not an Armstrong number\")\n",
    "\n",
    "        except Exception as e:\n",
    "            print(\"Error with program: \",e)\n",
    "            \n",
    "##################################   \n",
    "        \n",
    "    def ques5(self):\n",
    "        try:\n",
    "            minInt = int(input(\"Enter min interval number: \"))\n",
    "            maxInt = int(input(\"Enter max interval number: \"))\n",
    "            order = int(input(\"Enter order of Armstrong number: \"))\n",
    "            \n",
    "            for i in range(minInt,maxInt):\n",
    "                sum = 0\n",
    "                temp = i\n",
    "                while temp > 0:\n",
    "                    digit = temp % 10\n",
    "                    sum += digit ** order\n",
    "                    temp //= 10\n",
    "\n",
    "                if i == sum:\n",
    "                    print(i, end=\" \")\n",
    "    \n",
    "        except Exception as e:\n",
    "            print(\"Error with program: \",e)\n",
    "            \n",
    "##################################  \n",
    "\n",
    "    def ques6(self):\n",
    "        try:\n",
    "            num3 = int(input(\"Enter a number 'n' to find the sum of first n natural numbers: \"))\n",
    "            sumN = (num3*(num3+1))/2\n",
    "            print(\"Sum of first {} Natural numbers is: {}\".format(num3,sumN)) \n",
    "            \n",
    "        except Exception as e:\n",
    "            print(\"Error with program: \",e)\n",
    "            \n",
    "##################################  \n",
    "        \n",
    "        \n",
    "#Initializing the object\n",
    "sol = assignment_4()"
   ]
  },
  {
   "cell_type": "code",
   "execution_count": 42,
   "metadata": {},
   "outputs": [
    {
     "name": "stdout",
     "output_type": "stream",
     "text": [
      "Enter a number:6\n",
      "Factorial of 6 is 720\n"
     ]
    }
   ],
   "source": [
    "##1\n",
    "sol.ques1()"
   ]
  },
  {
   "cell_type": "code",
   "execution_count": 45,
   "metadata": {},
   "outputs": [
    {
     "name": "stdout",
     "output_type": "stream",
     "text": [
      "Enter a number:18\n",
      "18 * 1 = 18\n",
      "18 * 2 = 36\n",
      "18 * 3 = 54\n",
      "18 * 4 = 72\n",
      "18 * 5 = 90\n",
      "18 * 6 = 108\n",
      "18 * 7 = 126\n",
      "18 * 8 = 144\n",
      "18 * 9 = 162\n",
      "18 * 10 = 180\n"
     ]
    }
   ],
   "source": [
    "##2\n",
    "sol.ques2()"
   ]
  },
  {
   "cell_type": "code",
   "execution_count": 54,
   "metadata": {},
   "outputs": [
    {
     "name": "stdout",
     "output_type": "stream",
     "text": [
      "Total terms for Fibonacci sequence: 10\n",
      "0 1 1 2 3 5 8 13 21 34 "
     ]
    }
   ],
   "source": [
    "##3\n",
    "sol.ques3()"
   ]
  },
  {
   "cell_type": "code",
   "execution_count": 66,
   "metadata": {},
   "outputs": [
    {
     "name": "stdout",
     "output_type": "stream",
     "text": [
      "Enter a number: 153\n",
      "Enter order of Armstrong number: 3\n",
      "153 is an Armstrong number\n"
     ]
    }
   ],
   "source": [
    "##4\n",
    "sol.ques4()"
   ]
  },
  {
   "cell_type": "code",
   "execution_count": 86,
   "metadata": {},
   "outputs": [
    {
     "name": "stdout",
     "output_type": "stream",
     "text": [
      "Enter min interval number: 10\n",
      "Enter max interval number: 1000\n",
      "Enter order of Armstrong number: 3\n",
      "153 370 371 407 "
     ]
    }
   ],
   "source": [
    "##5\n",
    "sol.ques5()"
   ]
  },
  {
   "cell_type": "code",
   "execution_count": 93,
   "metadata": {},
   "outputs": [
    {
     "name": "stdout",
     "output_type": "stream",
     "text": [
      "Enter a number 'n' to find the sum of first n natural numbers: 20\n",
      "Sum of first 20 Natural numbers is: 210.0\n"
     ]
    }
   ],
   "source": [
    "##6\n",
    "sol.ques6()"
   ]
  },
  {
   "cell_type": "code",
   "execution_count": null,
   "metadata": {},
   "outputs": [],
   "source": []
  }
 ],
 "metadata": {
  "kernelspec": {
   "display_name": "Python 3",
   "language": "python",
   "name": "python3"
  },
  "language_info": {
   "codemirror_mode": {
    "name": "ipython",
    "version": 3
   },
   "file_extension": ".py",
   "mimetype": "text/x-python",
   "name": "python",
   "nbconvert_exporter": "python",
   "pygments_lexer": "ipython3",
   "version": "3.7.4"
  }
 },
 "nbformat": 4,
 "nbformat_minor": 2
}
