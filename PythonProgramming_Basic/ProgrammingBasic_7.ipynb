{
 "cells": [
  {
   "cell_type": "code",
   "execution_count": 118,
   "metadata": {},
   "outputs": [],
   "source": [
    "class assignment6:\n",
    "    def ques1(self):\n",
    "        try:\n",
    "            input_arr = input(\"Enter the array of elements separated by space \")\n",
    "            arr  = input_arr.split()\n",
    "            sum = 0\n",
    "            for i in range(0,len(arr)):\n",
    "                sum = sum + int(arr[i])\n",
    "            print(\"Sum of array is: \",sum) \n",
    "            \n",
    "        except Exception as e:\n",
    "            print(\"Error in program: \",e)\n",
    "            \n",
    "#############################################################\n",
    "\n",
    "    def ques2(self):\n",
    "        try:\n",
    "            input_arr = input(\"Enter the array of elements separated by space \")\n",
    "            arr  = input_arr.split()\n",
    "            max = int(arr[0])\n",
    "            for i in range(0,len(arr)):\n",
    "                if int(arr[i])>max:\n",
    "                    max = int(arr[i])\n",
    "            print(\"Largest element in array is: \",max)\n",
    "            \n",
    "        except Exception as e:\n",
    "            print(\"Error in program: \",e)\n",
    "            \n",
    "#############################################################\n",
    "\n",
    "    def ques3(self):\n",
    "        try:\n",
    "            input_arr = input(\"Enter the array of elements separated by space \")\n",
    "            arr  = input_arr.split()\n",
    "            print(\"After rotation, array is: \", arr[::-1])\n",
    "                \n",
    "        except Exception as e:\n",
    "            print(\"Error in program: \",e)\n",
    "            \n",
    "#############################################################\n",
    "\n",
    "    def ques4(self):\n",
    "        try:\n",
    "            input_arr = input(\"Enter the array of elements separated by space \")\n",
    "            arr  = input_arr.split()\n",
    "            m = int(len(arr)/2)\n",
    "            arr = arr[m:] + arr[:m]\n",
    "            print(\"Array after splitting is: \",arr)\n",
    "            \n",
    "        except Exception as e:\n",
    "            print(\"Error in program: \",e)\n",
    "            \n",
    "#############################################################\n",
    "\n",
    "    def ques5(self):\n",
    "        try:\n",
    "            input_arr = input(\"Enter the array of elements separated by space \")\n",
    "            arr  = input_arr.split()\n",
    "            \n",
    "            if all(arr[i] <= arr[i + 1] for i in range(len(arr) - 1)):\n",
    "                return \"Array is Monotonic Increase\" \n",
    "            elif all(arr[i] >= arr[i + 1] for i in range(len(arr) - 1)):\n",
    "                return \"Array is Monotonic Decrease\" \n",
    "            else:\n",
    "                return \"Not Monotonic array\"\n",
    "       \n",
    "        except Exception as e:\n",
    "            print(\"Error in program: \",e)\n",
    "                   \n",
    "            \n",
    "            \n",
    "            \n",
    "sol = assignment6()"
   ]
  },
  {
   "cell_type": "code",
   "execution_count": 34,
   "metadata": {},
   "outputs": [
    {
     "name": "stdout",
     "output_type": "stream",
     "text": [
      "Enter the array of elements separated by space 1 2 3 4 5 6\n",
      "Sum of array is:  21\n"
     ]
    }
   ],
   "source": [
    "##1\n",
    "sol.ques1()"
   ]
  },
  {
   "cell_type": "code",
   "execution_count": 73,
   "metadata": {},
   "outputs": [
    {
     "name": "stdout",
     "output_type": "stream",
     "text": [
      "Enter the array of elements separated by space 1 5 8 8 9 3 5\n",
      "Largest element in array is:  9\n"
     ]
    }
   ],
   "source": [
    "##2\n",
    "sol.ques2()"
   ]
  },
  {
   "cell_type": "code",
   "execution_count": 76,
   "metadata": {},
   "outputs": [
    {
     "name": "stdout",
     "output_type": "stream",
     "text": [
      "Enter the array of elements separated by space 1 2 3 4 5 6 7 8 9\n",
      "After rotation, array is:  ['9', '8', '7', '6', '5', '4', '3', '2', '1']\n"
     ]
    }
   ],
   "source": [
    "##3\n",
    "sol.ques3()"
   ]
  },
  {
   "cell_type": "code",
   "execution_count": 92,
   "metadata": {},
   "outputs": [
    {
     "name": "stdout",
     "output_type": "stream",
     "text": [
      "Enter the array of elements separated by space 1 2 3 4 5 6\n",
      "Array after splitting is:  ['4', '5', '6', '1', '2', '3']\n"
     ]
    }
   ],
   "source": [
    "##4\n",
    "sol.ques4()"
   ]
  },
  {
   "cell_type": "code",
   "execution_count": 119,
   "metadata": {},
   "outputs": [
    {
     "name": "stdout",
     "output_type": "stream",
     "text": [
      "Enter the array of elements separated by space 9 6 4 2 1\n"
     ]
    },
    {
     "data": {
      "text/plain": [
       "'Array is Monotonic Decrease'"
      ]
     },
     "execution_count": 119,
     "metadata": {},
     "output_type": "execute_result"
    }
   ],
   "source": [
    "##5\n",
    "sol.ques5()"
   ]
  },
  {
   "cell_type": "code",
   "execution_count": null,
   "metadata": {},
   "outputs": [],
   "source": []
  }
 ],
 "metadata": {
  "kernelspec": {
   "display_name": "Python 3",
   "language": "python",
   "name": "python3"
  },
  "language_info": {
   "codemirror_mode": {
    "name": "ipython",
    "version": 3
   },
   "file_extension": ".py",
   "mimetype": "text/x-python",
   "name": "python",
   "nbconvert_exporter": "python",
   "pygments_lexer": "ipython3",
   "version": "3.7.4"
  }
 },
 "nbformat": 4,
 "nbformat_minor": 2
}
