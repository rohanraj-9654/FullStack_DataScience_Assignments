{
 "cells": [
  {
   "cell_type": "code",
   "execution_count": 2,
   "metadata": {},
   "outputs": [],
   "source": [
    "##1 \n",
    "#Functions are advantageous as:\n",
    "#    - They allow for code reusability, thus can reduce the lengths of long codes\n",
    "#    - It also makes the program more readable, with each function created for one specific task "
   ]
  },
  {
   "cell_type": "code",
   "execution_count": 3,
   "metadata": {},
   "outputs": [],
   "source": [
    "##2\n",
    "# A code in a function runs only when it is called using the specific notation \"functionName()\"."
   ]
  },
  {
   "cell_type": "code",
   "execution_count": 4,
   "metadata": {},
   "outputs": [
    {
     "data": {
      "text/plain": [
       "'Rohan is my name'"
      ]
     },
     "execution_count": 4,
     "metadata": {},
     "output_type": "execute_result"
    }
   ],
   "source": [
    "##3\n",
    "# In Python, a function is created using the 'def' keyword.\n",
    "def abc():\n",
    "    return \"Rohan is my name\"\n",
    "\n",
    "abc()"
   ]
  },
  {
   "cell_type": "code",
   "execution_count": 5,
   "metadata": {},
   "outputs": [],
   "source": [
    "##4\n",
    "# A function is used to define a process or a workflow that we intend to perform in a program.But the function itself won't be\n",
    "# useful until it's called.\n",
    "# Using the function to achieve that particular task by calling it is referred as Function call."
   ]
  },
  {
   "cell_type": "code",
   "execution_count": null,
   "metadata": {},
   "outputs": [],
   "source": [
    "##5\n",
    "# Global scopes are that can be accessed anywhere in the program, while local scope variables are accessible only in a \n",
    "# defined scope."
   ]
  },
  {
   "cell_type": "code",
   "execution_count": 21,
   "metadata": {},
   "outputs": [
    {
     "data": {
      "text/plain": [
       "3"
      ]
     },
     "execution_count": 21,
     "metadata": {},
     "output_type": "execute_result"
    }
   ],
   "source": [
    "##6\n",
    "# When a function call returns, variables in local scope can overload variables in global scope.\n",
    "a = 6\n",
    "def test():\n",
    "    a=3\n",
    "    return a\n",
    "test()"
   ]
  },
  {
   "cell_type": "code",
   "execution_count": 22,
   "metadata": {},
   "outputs": [
    {
     "name": "stdout",
     "output_type": "stream",
     "text": [
      "6\n"
     ]
    }
   ],
   "source": [
    "print(a)    #Outside the function, value of 'a' remains same as 6 since it's a global variable."
   ]
  },
  {
   "cell_type": "code",
   "execution_count": 8,
   "metadata": {},
   "outputs": [],
   "source": [
    "##7\n",
    "# When creating a function, one can decide whether they want to return any value at the time function is called. \n",
    "# This is return value.\n",
    "# Yes, a function can be used to return an expression. Without anexpression it will return a null result."
   ]
  },
  {
   "cell_type": "code",
   "execution_count": 14,
   "metadata": {},
   "outputs": [
    {
     "name": "stdout",
     "output_type": "stream",
     "text": [
      "9\n"
     ]
    }
   ],
   "source": [
    "##8\n",
    "# If a function doesn't have a return statement, the return value of the call will be a null result, \n",
    "# unless it has print statement to output the result.\n",
    "def test1():\n",
    "    c=5+4\n",
    "    print(c)\n",
    "test1()"
   ]
  },
  {
   "cell_type": "code",
   "execution_count": null,
   "metadata": {},
   "outputs": [],
   "source": [
    "##9\n",
    "# A variable inside a function can be referred as the global variable by using the 'global' keyword."
   ]
  },
  {
   "cell_type": "code",
   "execution_count": 23,
   "metadata": {},
   "outputs": [],
   "source": [
    "##10\n",
    "# None has its own data type in python as 'Nonetype'"
   ]
  },
  {
   "cell_type": "code",
   "execution_count": 26,
   "metadata": {},
   "outputs": [],
   "source": [
    "##11\n"
   ]
  },
  {
   "cell_type": "code",
   "execution_count": 27,
   "metadata": {},
   "outputs": [],
   "source": [
    "##12\n",
    "# After importing spam module, we can use spam.bacon() to call that fetaure"
   ]
  },
  {
   "cell_type": "code",
   "execution_count": 29,
   "metadata": {},
   "outputs": [],
   "source": [
    "##13\n",
    "# We can use Exception Handling, so that whenever program encounters an error, it throw an error message instead of crashing."
   ]
  },
  {
   "cell_type": "code",
   "execution_count": null,
   "metadata": {},
   "outputs": [],
   "source": [
    "##14\n",
    "# try clause basically is where we keep the main part of our program that we want to test or where we anticipate any error \n",
    "# might occur in the future.\n",
    "# except clause is where we try to catch the error that ocurred with our main program workflow, and try to display that error \n",
    "# before the program crash."
   ]
  },
  {
   "cell_type": "code",
   "execution_count": null,
   "metadata": {},
   "outputs": [],
   "source": []
  }
 ],
 "metadata": {
  "kernelspec": {
   "display_name": "Python 3",
   "language": "python",
   "name": "python3"
  },
  "language_info": {
   "codemirror_mode": {
    "name": "ipython",
    "version": 3
   },
   "file_extension": ".py",
   "mimetype": "text/x-python",
   "name": "python",
   "nbconvert_exporter": "python",
   "pygments_lexer": "ipython3",
   "version": "3.7.4"
  }
 },
 "nbformat": 4,
 "nbformat_minor": 2
}
