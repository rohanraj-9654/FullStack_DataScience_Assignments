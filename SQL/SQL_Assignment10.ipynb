{
 "cells": [
  {
   "cell_type": "code",
   "execution_count": 1,
   "metadata": {},
   "outputs": [],
   "source": [
    "##1\n",
    "SELECT \n",
    "    salary\n",
    "FROM\n",
    "    salaries W1\n",
    "WHERE\n",
    "    4 = (SELECT \n",
    "            COUNT(DISTINCT (W2.salary))\n",
    "        FROM\n",
    "            salaries W2\n",
    "        WHERE\n",
    "            W2.salary >= W1.salary);"
   ]
  },
  {
   "cell_type": "code",
   "execution_count": 2,
   "metadata": {},
   "outputs": [],
   "source": [
    "##2\n",
    "SELECT \n",
    "    e.emp_no, e.first_name, s.salary\n",
    "FROM\n",
    "    salaries s,\n",
    "    salaries s1\n",
    "        JOIN\n",
    "    employees e ON s1.emp_no = e.emp_no\n",
    "WHERE\n",
    "    s.salary = s1.salary\n",
    "        AND s.emp_no != s1.emp_no;"
   ]
  }
 ],
 "metadata": {
  "kernelspec": {
   "display_name": "Python 3",
   "language": "python",
   "name": "python3"
  },
  "language_info": {
   "codemirror_mode": {
    "name": "ipython",
    "version": 3
   },
   "file_extension": ".py",
   "mimetype": "text/x-python",
   "name": "python",
   "nbconvert_exporter": "python",
   "pygments_lexer": "ipython3",
   "version": "3.7.4"
  }
 },
 "nbformat": 4,
 "nbformat_minor": 2
}
