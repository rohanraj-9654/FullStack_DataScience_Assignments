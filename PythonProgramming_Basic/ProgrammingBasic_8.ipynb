{
 "cells": [
  {
   "cell_type": "code",
   "execution_count": 95,
   "metadata": {},
   "outputs": [],
   "source": [
    "import re\n",
    "\n",
    "class assignment8():\n",
    "    def ques1(self):\n",
    "        try:\n",
    "            X = [[1,2,3],[4,5,6],[7,8,9]]\n",
    "            Y = [[9,8,7],[6,5,4],[3,2,1]]\n",
    "            sumMatrices = [[0,0,0],[0,0,0],[0,0,0]] \n",
    "            \n",
    "            for i in range(len(X)):\n",
    "                for j in range(len(X[0])):\n",
    "                    sumMatrices[i][j] = X[i][j] + Y[i][j]\n",
    "            \n",
    "            for r in sumMatrices:\n",
    "                print(r, end=\"\\n\")\n",
    "              \n",
    "        except Exception as e:\n",
    "            print(\"Error with program: \",e)\n",
    "        \n",
    "#####################################################################\n",
    "\n",
    "    def ques2(self):\n",
    "        try:\n",
    "            X = [[1,2,3],[4,5,6],[7,8,9]]\n",
    "            Y = [[9,8,7],[6,5,4],[3,2,1]]\n",
    "            mulMatrices = [[0,0,0],[0,0,0],[0,0,0]] \n",
    "            \n",
    "            for i in range(len(X)):\n",
    "                for j in range(len(X[0])):\n",
    "                    for k in range(len(Y)):\n",
    "                        mulMatrices[i][j] += X[i][k] * Y[k][j]\n",
    "                        \n",
    "            for r in mulMatrices:\n",
    "                print(r, end=\"\\n\")\n",
    "            \n",
    "        except Exception as e:\n",
    "            print(\"Error with program: \",e)\n",
    "\n",
    "#####################################################################\n",
    "\n",
    "    def ques3(self):\n",
    "        try:\n",
    "            X = [[1,2,3],[4,5,6],[7,8,9]]\n",
    "            transpose = [[0,0,0],[0,0,0],[0,0,0]] \n",
    "            \n",
    "            for i in range(len(X)):\n",
    "                for j in range(len(X[0])):\n",
    "                    transpose[j][i] = X[i][j]\n",
    "                        \n",
    "            for r in transpose:\n",
    "                print(r, end=\"\\n\")\n",
    "            \n",
    "        except Exception as e:\n",
    "            print(\"Error with program: \",e)\n",
    "        \n",
    "#####################################################################\n",
    "\n",
    "    def ques4(self):\n",
    "        try:\n",
    "            inp = str(input(\"Enter input string to sort: \"))\n",
    "            words = [word.lower() for word in inp.split()]\n",
    "            words.sort()\n",
    "            \n",
    "            print(\"The sorted words are: \",words)\n",
    "            \n",
    "        except Exception as e:\n",
    "            print(\"Error with program: \",e)\n",
    "        \n",
    "#####################################################################\n",
    "\n",
    "    def ques5(self):\n",
    "        try:\n",
    "            inp = str(input(\"Enter input string: \")) \n",
    "  \n",
    "            #Replace everything except word characters and whitespace in input string with \"\" \n",
    "            res = re.sub(r'[^\\w\\s]', '', test_str)\n",
    "            print(\"The string after removing punctuation: \" + res) \n",
    "  \n",
    "        except Exception as e:\n",
    "            print(\"Error with program: \",e)\n",
    "            \n",
    "        \n",
    "        \n",
    "        \n",
    "        \n",
    "sol = assignment8()"
   ]
  },
  {
   "cell_type": "code",
   "execution_count": 49,
   "metadata": {},
   "outputs": [
    {
     "name": "stdout",
     "output_type": "stream",
     "text": [
      "[10, 10, 10]\n",
      "[10, 10, 10]\n",
      "[10, 10, 10]\n"
     ]
    }
   ],
   "source": [
    "##1\n",
    "sol.ques1()"
   ]
  },
  {
   "cell_type": "code",
   "execution_count": 50,
   "metadata": {},
   "outputs": [
    {
     "name": "stdout",
     "output_type": "stream",
     "text": [
      "[30, 24, 18]\n",
      "[84, 69, 54]\n",
      "[138, 114, 90]\n"
     ]
    }
   ],
   "source": [
    "##2\n",
    "sol.ques2()"
   ]
  },
  {
   "cell_type": "code",
   "execution_count": 52,
   "metadata": {},
   "outputs": [
    {
     "name": "stdout",
     "output_type": "stream",
     "text": [
      "[1, 4, 7]\n",
      "[2, 5, 8]\n",
      "[3, 6, 9]\n"
     ]
    }
   ],
   "source": [
    "##3\n",
    "sol.ques3()"
   ]
  },
  {
   "cell_type": "code",
   "execution_count": 73,
   "metadata": {},
   "outputs": [
    {
     "name": "stdout",
     "output_type": "stream",
     "text": [
      "Enter input string to sort: My name is Rohan Raj\n",
      "The sorted words are:  ['is', 'my', 'name', 'raj', 'rohan']\n"
     ]
    }
   ],
   "source": [
    "##4\n",
    "sol.ques4()"
   ]
  },
  {
   "cell_type": "code",
   "execution_count": 96,
   "metadata": {},
   "outputs": [
    {
     "name": "stdout",
     "output_type": "stream",
     "text": [
      "Enter input string: @My name, is! #Rohan? : #Raj;;;\n",
      "The string after removing punctuation: My name is Rohan  Raj\n"
     ]
    }
   ],
   "source": [
    "##5\n",
    "sol.ques5()"
   ]
  },
  {
   "cell_type": "code",
   "execution_count": null,
   "metadata": {},
   "outputs": [],
   "source": []
  }
 ],
 "metadata": {
  "kernelspec": {
   "display_name": "Python 3",
   "language": "python",
   "name": "python3"
  },
  "language_info": {
   "codemirror_mode": {
    "name": "ipython",
    "version": 3
   },
   "file_extension": ".py",
   "mimetype": "text/x-python",
   "name": "python",
   "nbconvert_exporter": "python",
   "pygments_lexer": "ipython3",
   "version": "3.7.4"
  }
 },
 "nbformat": 4,
 "nbformat_minor": 2
}
