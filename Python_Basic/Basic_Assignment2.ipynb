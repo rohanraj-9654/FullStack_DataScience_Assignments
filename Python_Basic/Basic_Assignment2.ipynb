{
 "cells": [
  {
   "cell_type": "code",
   "execution_count": 2,
   "metadata": {},
   "outputs": [],
   "source": [
    "##1\n",
    "# 2 Boolean values are True and False and are written with first letter in uppercase"
   ]
  },
  {
   "cell_type": "code",
   "execution_count": 4,
   "metadata": {},
   "outputs": [],
   "source": [
    "##2\n",
    "# 3 Boolean operators are - AND, OR and NOT"
   ]
  },
  {
   "cell_type": "code",
   "execution_count": 5,
   "metadata": {},
   "outputs": [],
   "source": [
    "##3\n",
    "#               AND           OR                   NOT\n",
    "# True True     True          True              True   False   \n",
    "# True False    False         True              False  True \n",
    "# False True    False         True\n",
    "# False False   False         False"
   ]
  },
  {
   "cell_type": "code",
   "execution_count": 10,
   "metadata": {},
   "outputs": [
    {
     "name": "stdout",
     "output_type": "stream",
     "text": [
      "False\n",
      "False\n",
      "True\n",
      "False\n",
      "False\n",
      "True\n"
     ]
    }
   ],
   "source": [
    "##4\n",
    "print((5 > 4) and (3 == 5))\n",
    "print(not (5 > 4))\n",
    "print((5 > 4) or (3 == 5))\n",
    "print(not ((5 > 4) or (3 == 5)))\n",
    "print((True and True) and (True==False))    #True and False = False\n",
    "print((not False) or (not True))            #True or False = True"
   ]
  },
  {
   "cell_type": "code",
   "execution_count": 11,
   "metadata": {},
   "outputs": [],
   "source": [
    "##5\n",
    "# Six comparison operators are:\n",
    "# >, <, >=, <=, ==, !="
   ]
  },
  {
   "cell_type": "code",
   "execution_count": 12,
   "metadata": {},
   "outputs": [
    {
     "name": "stdout",
     "output_type": "stream",
     "text": [
      "False\n"
     ]
    }
   ],
   "source": [
    "##6\n",
    "# Assignment operator is '='\n",
    "# Equal to operator is '=='\n",
    "x=10              #Assignment\n",
    "y=5\n",
    "if y==x:          #Equal to\n",
    "    print(True)\n",
    "else:\n",
    "    print(False)"
   ]
  },
  {
   "cell_type": "code",
   "execution_count": null,
   "metadata": {},
   "outputs": [],
   "source": [
    "##7\n",
    "# \n",
    "# First block\n",
    "# spam = 0\n",
    "\n",
    "# Second block \n",
    "#if spam == 10:\n",
    "#    print('eggs')\n",
    "#    if spam > 5:\n",
    "#        print('bacon')\n",
    "#    else:\n",
    "#        print('ham')\n",
    "#    print('spam')\n",
    "\n",
    "# Third Block\n",
    "# print('spam')"
   ]
  },
  {
   "cell_type": "code",
   "execution_count": 27,
   "metadata": {},
   "outputs": [
    {
     "name": "stdout",
     "output_type": "stream",
     "text": [
      "6\n",
      "Greetings!\n"
     ]
    }
   ],
   "source": [
    "##8\n",
    "spam = int(input())\n",
    "if spam == 1:\n",
    "    print (\"Hello\")\n",
    "elif spam == 2:\n",
    "    print (\"Howdy\")\n",
    "else : \n",
    "    print(\"Greetings!\")"
   ]
  },
  {
   "cell_type": "code",
   "execution_count": null,
   "metadata": {},
   "outputs": [],
   "source": [
    "##9\n",
    "# In python notebook, will try to interrupt the kernel"
   ]
  },
  {
   "cell_type": "code",
   "execution_count": 28,
   "metadata": {},
   "outputs": [],
   "source": [
    "##10\n",
    "# Break - Breaks the current conditional loop or iteration and won't execute the remaining part                                \n",
    "# Continue - Continue gives the control back to next loop or next iteration once it is hit"
   ]
  },
  {
   "cell_type": "code",
   "execution_count": 31,
   "metadata": {},
   "outputs": [],
   "source": [
    "##11\n",
    "# All are same and give the same output of 10 numbers from 0-10"
   ]
  },
  {
   "cell_type": "code",
   "execution_count": 35,
   "metadata": {},
   "outputs": [
    {
     "name": "stdout",
     "output_type": "stream",
     "text": [
      "1 2 3 4 5 6 7 8 9 10 "
     ]
    }
   ],
   "source": [
    "##12\n",
    "for i in range(1,11):\n",
    "    print(i, end=' ')"
   ]
  },
  {
   "cell_type": "code",
   "execution_count": 38,
   "metadata": {},
   "outputs": [
    {
     "name": "stdout",
     "output_type": "stream",
     "text": [
      "1 2 3 4 5 6 7 8 9 10 "
     ]
    }
   ],
   "source": [
    "k=11\n",
    "i=1\n",
    "while i<11:\n",
    "    print(i, end=' ')\n",
    "    i=i+1"
   ]
  },
  {
   "cell_type": "code",
   "execution_count": null,
   "metadata": {},
   "outputs": [],
   "source": [
    "##13\n",
    "# import spam\n",
    "# spam.bacon()"
   ]
  }
 ],
 "metadata": {
  "kernelspec": {
   "display_name": "Python 3",
   "language": "python",
   "name": "python3"
  },
  "language_info": {
   "codemirror_mode": {
    "name": "ipython",
    "version": 3
   },
   "file_extension": ".py",
   "mimetype": "text/x-python",
   "name": "python",
   "nbconvert_exporter": "python",
   "pygments_lexer": "ipython3",
   "version": "3.7.4"
  }
 },
 "nbformat": 4,
 "nbformat_minor": 2
}
