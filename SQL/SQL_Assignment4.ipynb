{
 "cells": [
  {
   "cell_type": "code",
   "execution_count": null,
   "metadata": {},
   "outputs": [],
   "source": [
    "##1\n",
    "SELECT \n",
    "    REPLACE(first_name, 'a', 'A')\n",
    "FROM\n",
    "    employees;"
   ]
  },
  {
   "cell_type": "code",
   "execution_count": null,
   "metadata": {},
   "outputs": [],
   "source": [
    "##2\n",
    "SELECT \n",
    "    e.first_name, d.dept_name\n",
    "FROM\n",
    "    employees e\n",
    "        JOIN\n",
    "    dept_emp de ON e.emp_no = de.emp_no\n",
    "        JOIN\n",
    "    departments d ON de.dept_no = d.dept_no\n",
    "ORDER BY e.first_name , d.dept_name DESC;"
   ]
  },
  {
   "cell_type": "code",
   "execution_count": null,
   "metadata": {},
   "outputs": [],
   "source": [
    "##3\n",
    "SELECT \n",
    "    FIRST_NAME, SALARY\n",
    "FROM\n",
    "    Worker\n",
    "WHERE\n",
    "    SALARY = (SELECT \n",
    "            MAX(SALARY)\n",
    "        FROM\n",
    "            Worker);"
   ]
  }
 ],
 "metadata": {
  "kernelspec": {
   "display_name": "Python 3",
   "language": "python",
   "name": "python3"
  },
  "language_info": {
   "codemirror_mode": {
    "name": "ipython",
    "version": 3
   },
   "file_extension": ".py",
   "mimetype": "text/x-python",
   "name": "python",
   "nbconvert_exporter": "python",
   "pygments_lexer": "ipython3",
   "version": "3.7.4"
  }
 },
 "nbformat": 4,
 "nbformat_minor": 2
}
