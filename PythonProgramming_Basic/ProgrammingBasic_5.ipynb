{
 "cells": [
  {
   "cell_type": "code",
   "execution_count": 3,
   "metadata": {},
   "outputs": [],
   "source": [
    "class assignment5:\n",
    "    def ques1(self):\n",
    "        try:\n",
    "            n1 = int(input(\"Enter first number: \"))\n",
    "            n2 = int(input(\"Enter second number: \"))\n",
    "            if n1>n2:\n",
    "                max = n1\n",
    "            else:\n",
    "                max = n2\n",
    "            while(True):\n",
    "                if (max%n1 == 0 and max%n2 == 0):\n",
    "                    print(\"LCM of 2 numbers is: \",max)\n",
    "                    break\n",
    "                max = max + 1\n",
    "            \n",
    "        except Exception as e:\n",
    "            print(\"Error in program: \",e)\n",
    "            \n",
    "##################################################################\n",
    "\n",
    "    def ques2(self):\n",
    "        try:\n",
    "            n1 = int(input(\"Enter first number: \"))\n",
    "            n2 = int(input(\"Enter second number: \"))\n",
    "            if n1<n2:\n",
    "                min = n1\n",
    "            else:\n",
    "                min = n2\n",
    "            for i in range(2,min+1):\n",
    "                if (n1%i == 0 and n2%i == 0):\n",
    "                    print(\"HCF of 2 numbers is: \",i)\n",
    "                    break\n",
    "            \n",
    "        except Exception as e:\n",
    "            print(\"Error in program: \",e)\n",
    "            \n",
    "##################################################################\n",
    "\n",
    "    def ques3(self):\n",
    "        try:\n",
    "            num = int(input(\"Enter the Decimal number: \"))\n",
    "            print(\"Binary form of number is: {}\".format(bin(num)))\n",
    "            print(\"Octal form of number is: {}\".format(oct(num)))\n",
    "            print(\"Hex-decimal form of number is: {}\".format(hex(num)))\n",
    "            \n",
    "        except Exception as e:\n",
    "            print(\"Error in program: \",e)\n",
    "                  \n",
    "##################################################################\n",
    "                  \n",
    "    def ques4(self):\n",
    "        try:\n",
    "            char = input(\"Enter a character: \")\n",
    "            print(\"ASCII value of {} is {}\".format(char,ord(char)))\n",
    "            \n",
    "                  \n",
    "        except Exception as e:\n",
    "            print(\"Error in program: \",e)      \n",
    "                  \n",
    "##################################################################\n",
    "\n",
    "    def ques5(self):\n",
    "        try:\n",
    "            print(\"Operation to perform\")\n",
    "            print(\"1. Addition\", end=\" \")\n",
    "            print(\"2. Subtraction\", end=\" \")\n",
    "            print(\"3. Multiplication\", end=\" \")\n",
    "            print(\"4. Division\")\n",
    "            \n",
    "            num = int(input(\"Choose operation to perform (1/2/3/4): \"))\n",
    "            n1 = int(input(\"Enter first number: \"))\n",
    "            n2 = int(input(\"Enter second number: \"))\n",
    "            if num==1:\n",
    "                sum = n1+n2\n",
    "                print(\"Answer is: {}\".format(sum))\n",
    "            elif num==2:\n",
    "                diff = n1-n2\n",
    "                print(\"Answer is: {}\".format(diff))\n",
    "            elif num==3:\n",
    "                mul = n1*n2\n",
    "                print(\"Answer is: {}\".format(mul))\n",
    "            else:\n",
    "                div = n1/n2\n",
    "                print(\"Answer is: {}\".format(div))\n",
    "              \n",
    "        except Exception as e:\n",
    "            print(\"Error in program: \",e) \n",
    "                  \n",
    "                  \n",
    "            \n",
    "            \n",
    "sol = assignment5()"
   ]
  },
  {
   "cell_type": "code",
   "execution_count": 8,
   "metadata": {},
   "outputs": [
    {
     "name": "stdout",
     "output_type": "stream",
     "text": [
      "Enter first number: 25\n",
      "Enter second number: 35\n",
      "LCM of 2 numbers is:  175\n"
     ]
    }
   ],
   "source": [
    "##1\n",
    "sol.ques1()"
   ]
  },
  {
   "cell_type": "code",
   "execution_count": 17,
   "metadata": {},
   "outputs": [
    {
     "name": "stdout",
     "output_type": "stream",
     "text": [
      "Enter first number: 91\n",
      "Enter second number: 260\n",
      "HCF of 2 numbers is:  13\n"
     ]
    }
   ],
   "source": [
    "##2\n",
    "sol.ques2()"
   ]
  },
  {
   "cell_type": "code",
   "execution_count": 26,
   "metadata": {},
   "outputs": [
    {
     "name": "stdout",
     "output_type": "stream",
     "text": [
      "Enter the Decimal number: 1000\n",
      "Binary form of number is: 0b1111101000\n",
      "Octal form of number is: 0o1750\n",
      "Hex-decimal form of number is: 0x3e8\n"
     ]
    }
   ],
   "source": [
    "##3\n",
    "sol.ques3()"
   ]
  },
  {
   "cell_type": "code",
   "execution_count": 31,
   "metadata": {},
   "outputs": [
    {
     "name": "stdout",
     "output_type": "stream",
     "text": [
      "Enter a character: O\n",
      "ASCII value of O is 79\n"
     ]
    }
   ],
   "source": [
    "##4\n",
    "sol.ques4()"
   ]
  },
  {
   "cell_type": "code",
   "execution_count": 4,
   "metadata": {},
   "outputs": [
    {
     "name": "stdout",
     "output_type": "stream",
     "text": [
      "Operation to perform\n",
      "1. Addition 2. Subtraction 3. Multiplication 4. Division\n",
      "Choose operation to perform (1/2/3/4): 3\n",
      "Enter first number: 10\n",
      "Enter second number: 15\n",
      "Answer is: 150\n"
     ]
    }
   ],
   "source": [
    "##5\n",
    "sol.ques5()"
   ]
  },
  {
   "cell_type": "code",
   "execution_count": null,
   "metadata": {},
   "outputs": [],
   "source": []
  }
 ],
 "metadata": {
  "kernelspec": {
   "display_name": "Python 3",
   "language": "python",
   "name": "python3"
  },
  "language_info": {
   "codemirror_mode": {
    "name": "ipython",
    "version": 3
   },
   "file_extension": ".py",
   "mimetype": "text/x-python",
   "name": "python",
   "nbconvert_exporter": "python",
   "pygments_lexer": "ipython3",
   "version": "3.7.4"
  }
 },
 "nbformat": 4,
 "nbformat_minor": 2
}
