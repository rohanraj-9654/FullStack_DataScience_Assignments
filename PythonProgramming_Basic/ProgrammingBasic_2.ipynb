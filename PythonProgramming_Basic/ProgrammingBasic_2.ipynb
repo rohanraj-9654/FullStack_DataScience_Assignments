{
 "cells": [
  {
   "cell_type": "code",
   "execution_count": 1,
   "metadata": {},
   "outputs": [
    {
     "name": "stdout",
     "output_type": "stream",
     "text": [
      "Enter the value in kms: 100\n",
      "Converted value in miles is 62.1\n"
     ]
    }
   ],
   "source": [
    "##1\n",
    "conversionRatio = 0.621\n",
    "km = int(input(\"Enter the value in kms: \"))\n",
    "miles = km * conversionRatio\n",
    "print(\"Converted value in miles is {}\".format(miles))"
   ]
  },
  {
   "cell_type": "code",
   "execution_count": 8,
   "metadata": {},
   "outputs": [
    {
     "name": "stdout",
     "output_type": "stream",
     "text": [
      "Enter the value in celsius: 36.4\n",
      "Converted value in farenheit is 97.52\n"
     ]
    }
   ],
   "source": [
    "##2\n",
    "cel = float(input(\"Enter the value in celsius: \"))\n",
    "far = (cel * 9/5) + 32\n",
    "print(\"Converted value in farenheit is {}\".format(far))"
   ]
  },
  {
   "cell_type": "code",
   "execution_count": 9,
   "metadata": {},
   "outputs": [
    {
     "name": "stdout",
     "output_type": "stream",
     "text": [
      "Enter year: 2021\n",
      "Enter month: 5\n",
      "      May 2021\n",
      "Mo Tu We Th Fr Sa Su\n",
      "                1  2\n",
      " 3  4  5  6  7  8  9\n",
      "10 11 12 13 14 15 16\n",
      "17 18 19 20 21 22 23\n",
      "24 25 26 27 28 29 30\n",
      "31\n",
      "\n"
     ]
    }
   ],
   "source": [
    "##3\n",
    "import calendar as cl\n",
    "\n",
    "year = int(input(\"Enter year: \"))\n",
    "month = int(input(\"Enter month: \"))\n",
    "print(cl.month(year,month))"
   ]
  },
  {
   "cell_type": "code",
   "execution_count": 11,
   "metadata": {},
   "outputs": [
    {
     "name": "stdout",
     "output_type": "stream",
     "text": [
      "Enter value of a: 2\n",
      "Enter value of b: 5\n",
      "Enter value of c: 6\n",
      "Roots of the equation are (-1.25+1.1989578808281798j) and (-1.25+1.1989578808281798j)\n"
     ]
    }
   ],
   "source": [
    "##4\n",
    "import cmath\n",
    "\n",
    "coeff_a = int(input(\"Enter value of a: \"))\n",
    "coeff_b = int(input(\"Enter value of b: \"))\n",
    "coeff_c = int(input(\"Enter value of c: \"))\n",
    "\n",
    "dis = coeff_b**2 - (4*coeff_a*coeff_c)\n",
    "sol1 = (-coeff_b + cmath.sqrt(dis))/(2*coeff_a)\n",
    "sol2 = (-coeff_b + cmath.sqrt(dis))/(2*coeff_a)\n",
    "\n",
    "print(\"Roots of the equation are {} and {}\".format(sol1,sol2))"
   ]
  },
  {
   "cell_type": "code",
   "execution_count": 13,
   "metadata": {},
   "outputs": [
    {
     "name": "stdout",
     "output_type": "stream",
     "text": [
      "Enter value of a: 5\n",
      "Enter value of b: 8\n",
      "After swapping, value of a is 8 and value of b is 5\n"
     ]
    }
   ],
   "source": [
    "##5\n",
    "a = int(input(\"Enter value of a: \"))\n",
    "b = int(input(\"Enter value of b: \"))\n",
    "\n",
    "a=a+b\n",
    "b=a-b\n",
    "a=a-b\n",
    "\n",
    "print(\"After swapping, value of a is {} and value of b is {}\".format(a,b))"
   ]
  },
  {
   "cell_type": "code",
   "execution_count": null,
   "metadata": {},
   "outputs": [],
   "source": []
  }
 ],
 "metadata": {
  "kernelspec": {
   "display_name": "Python 3",
   "language": "python",
   "name": "python3"
  },
  "language_info": {
   "codemirror_mode": {
    "name": "ipython",
    "version": 3
   },
   "file_extension": ".py",
   "mimetype": "text/x-python",
   "name": "python",
   "nbconvert_exporter": "python",
   "pygments_lexer": "ipython3",
   "version": "3.7.4"
  }
 },
 "nbformat": 4,
 "nbformat_minor": 2
}
