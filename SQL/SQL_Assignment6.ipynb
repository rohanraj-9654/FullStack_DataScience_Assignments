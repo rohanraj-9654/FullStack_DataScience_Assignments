{
 "cells": [
  {
   "cell_type": "code",
   "execution_count": 1,
   "metadata": {},
   "outputs": [],
   "source": [
    "##1\n",
    "SELECT \n",
    "    *\n",
    "FROM\n",
    "    employees\n",
    "WHERE\n",
    "    (YEAR(hire_date) , MONTH(hire_date)) = (2014 , 2);"
   ]
  },
  {
   "cell_type": "code",
   "execution_count": 2,
   "metadata": {},
   "outputs": [],
   "source": [
    "##2\n",
    "SELECT \n",
    "    first_name, last_name, COUNT(*) AS duplicates\n",
    "FROM\n",
    "    employees\n",
    "GROUP BY first_name , last_name\n",
    "HAVING duplicates > 1;"
   ]
  },
  {
   "cell_type": "code",
   "execution_count": 3,
   "metadata": {},
   "outputs": [],
   "source": [
    "##3\n",
    "# Delete all duplicates of each entry from table except the max emp_id of that particular entry\n",
    "DELETE FROM employees \n",
    "WHERE\n",
    "    emp_no NOT IN (SELECT \n",
    "        MAX(emp_no) AS Keep_ID\n",
    "    FROM\n",
    "        employees\n",
    "    GROUP BY first_name , last_name);"
   ]
  }
 ],
 "metadata": {
  "kernelspec": {
   "display_name": "Python 3",
   "language": "python",
   "name": "python3"
  },
  "language_info": {
   "codemirror_mode": {
    "name": "ipython",
    "version": 3
   },
   "file_extension": ".py",
   "mimetype": "text/x-python",
   "name": "python",
   "nbconvert_exporter": "python",
   "pygments_lexer": "ipython3",
   "version": "3.7.4"
  }
 },
 "nbformat": 4,
 "nbformat_minor": 2
}
