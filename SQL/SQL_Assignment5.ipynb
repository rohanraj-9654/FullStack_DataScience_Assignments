{
 "cells": [
  {
   "cell_type": "code",
   "execution_count": 1,
   "metadata": {},
   "outputs": [],
   "source": [
    "##1\n",
    "SELECT \n",
    "    *\n",
    "FROM\n",
    "    Worker\n",
    "WHERE\n",
    "    FIRST_NAME NOT IN ('Vipul' , 'Satish');"
   ]
  },
  {
   "cell_type": "code",
   "execution_count": 2,
   "metadata": {},
   "outputs": [],
   "source": [
    "##2\n",
    "SELECT \n",
    "    *\n",
    "FROM\n",
    "    employees\n",
    "WHERE\n",
    "    first_name LIKE '%_____h';"
   ]
  },
  {
   "cell_type": "code",
   "execution_count": 3,
   "metadata": {},
   "outputs": [],
   "source": [
    "##3\n",
    "SELECT \n",
    "    EmailAdd,\n",
    "    CASE\n",
    "        WHEN EmailAdd LIKE '%_@_%_.__%' THEN 'Email Address is Correct'\n",
    "        ELSE 'Invalid Email Address'\n",
    "    END AS 'MSG'\n",
    "FROM\n",
    "    employees;"
   ]
  }
 ],
 "metadata": {
  "kernelspec": {
   "display_name": "Python 3",
   "language": "python",
   "name": "python3"
  },
  "language_info": {
   "codemirror_mode": {
    "name": "ipython",
    "version": 3
   },
   "file_extension": ".py",
   "mimetype": "text/x-python",
   "name": "python",
   "nbconvert_exporter": "python",
   "pygments_lexer": "ipython3",
   "version": "3.7.4"
  }
 },
 "nbformat": 4,
 "nbformat_minor": 2
}
