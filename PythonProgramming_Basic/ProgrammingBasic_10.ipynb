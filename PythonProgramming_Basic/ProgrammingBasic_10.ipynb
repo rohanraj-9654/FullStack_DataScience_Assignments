{
 "cells": [
  {
   "cell_type": "code",
   "execution_count": 7,
   "metadata": {},
   "outputs": [
    {
     "name": "stdout",
     "output_type": "stream",
     "text": [
      "45\n"
     ]
    }
   ],
   "source": [
    "##1\n",
    "array = [1,2,3,4,5,6,7,8,9]\n",
    "Sum=0\n",
    "for i in range(len(array)):\n",
    "    Sum += array[i]\n",
    "print(Sum)"
   ]
  },
  {
   "cell_type": "code",
   "execution_count": 11,
   "metadata": {},
   "outputs": [
    {
     "name": "stdout",
     "output_type": "stream",
     "text": [
      "120\n"
     ]
    }
   ],
   "source": [
    "##2\n",
    "array = [1,2,3,4,5]\n",
    "Mul=1\n",
    "for i in range(len(array)):\n",
    "    Mul = Mul*array[i]\n",
    "print(Mul)"
   ]
  },
  {
   "cell_type": "code",
   "execution_count": 30,
   "metadata": {},
   "outputs": [
    {
     "name": "stdout",
     "output_type": "stream",
     "text": [
      "2\n"
     ]
    }
   ],
   "source": [
    "##3\n",
    "arr = [4,3,2,9,7]\n",
    "Min = arr[0]\n",
    "for i in range(len(array)-1):\n",
    "    if arr[i+1] < Min:\n",
    "        Min = arr[i+1]\n",
    "print(Min)"
   ]
  },
  {
   "cell_type": "code",
   "execution_count": 35,
   "metadata": {},
   "outputs": [
    {
     "name": "stdout",
     "output_type": "stream",
     "text": [
      "9\n"
     ]
    }
   ],
   "source": [
    "##4\n",
    "arr = [4,1,2,9,7]\n",
    "Max=arr[0]\n",
    "for i in range(len(array)-1):\n",
    "    if arr[i+1] > Max:\n",
    "        Max = arr[i+1]\n",
    "print(Max)"
   ]
  },
  {
   "cell_type": "code",
   "execution_count": 45,
   "metadata": {},
   "outputs": [
    {
     "data": {
      "text/plain": [
       "21"
      ]
     },
     "execution_count": 45,
     "metadata": {},
     "output_type": "execute_result"
    }
   ],
   "source": [
    "##5\n",
    "arr = [4,8,2,9,7,12,21,1,46,13]\n",
    "arr.sort()\n",
    "arr[-2]"
   ]
  },
  {
   "cell_type": "code",
   "execution_count": 56,
   "metadata": {},
   "outputs": [
    {
     "name": "stdout",
     "output_type": "stream",
     "text": [
      "Enter n largest elements: 4\n",
      "Largest 4 elements in the list are [12, 13, 21, 46]\n"
     ]
    }
   ],
   "source": [
    "##6\n",
    "inp = int(input(\"Enter n largest elements: \"))\n",
    "arr = [4,8,2,9,7,12,21,1,46,13]\n",
    "arr.sort()\n",
    "if inp < len(arr):\n",
    "    print(\"Largest {} elements in the list are {}\".format(inp,arr[-inp:]))"
   ]
  },
  {
   "cell_type": "code",
   "execution_count": 60,
   "metadata": {},
   "outputs": [
    {
     "name": "stdout",
     "output_type": "stream",
     "text": [
      "Even elements in the list are:\n",
      "4\n",
      "8\n",
      "2\n",
      "12\n",
      "46\n"
     ]
    }
   ],
   "source": [
    "##7\n",
    "arr = [4,8,2,9,7,12,21,1,46,13]\n",
    "print(\"Even elements in the list are:\")\n",
    "for i in arr:\n",
    "    if i%2 == 0:\n",
    "        print(i)"
   ]
  },
  {
   "cell_type": "code",
   "execution_count": 62,
   "metadata": {},
   "outputs": [
    {
     "name": "stdout",
     "output_type": "stream",
     "text": [
      "Odd elements in the list are:\n",
      "9\n",
      "7\n",
      "21\n",
      "1\n",
      "13\n"
     ]
    }
   ],
   "source": [
    "##8\n",
    "arr = [4,8,2,9,7,12,21,1,46,13]\n",
    "print(\"Odd elements in the list are:\")\n",
    "for i in arr:\n",
    "    if i%2 != 0:\n",
    "        print(i)"
   ]
  },
  {
   "cell_type": "code",
   "execution_count": 89,
   "metadata": {},
   "outputs": [
    {
     "name": "stdout",
     "output_type": "stream",
     "text": [
      "[1, 2, 'Rohan', [2, 4, 'Raj'], True, 56, 'iNeuron']\n"
     ]
    }
   ],
   "source": [
    "##9\n",
    "arr = [1,2,'Rohan',[2,4,'Raj'],[],True,56,[],'iNeuron']\n",
    "for i in arr:\n",
    "    if type(i) == list:\n",
    "        if len(i) == 0:\n",
    "            arr.remove(i)\n",
    "print(arr)"
   ]
  },
  {
   "cell_type": "code",
   "execution_count": 97,
   "metadata": {},
   "outputs": [
    {
     "name": "stdout",
     "output_type": "stream",
     "text": [
      "Copied List is:  [1, 2, 'Rohan', [2, 4, 'Raj'], [], True, 56, [], 'iNeuron']\n"
     ]
    }
   ],
   "source": [
    "##10\n",
    "arr = [1,2,'Rohan',[2,4,'Raj'],[],True,56,[],'iNeuron']\n",
    "copy_arr = []\n",
    "for i in range(len(arr)):\n",
    "    copy_arr.append(arr[i])\n",
    "print(\"Copied List is: \",copy_arr)"
   ]
  },
  {
   "cell_type": "code",
   "execution_count": 100,
   "metadata": {},
   "outputs": [
    {
     "data": {
      "text/plain": [
       "3"
      ]
     },
     "execution_count": 100,
     "metadata": {},
     "output_type": "execute_result"
    }
   ],
   "source": [
    "##11\n",
    "arr = [1,2,3,4,5,6,4,3,5,2,1,4,5,3,2,5,6]\n",
    "arr.count(3)"
   ]
  },
  {
   "cell_type": "code",
   "execution_count": null,
   "metadata": {},
   "outputs": [],
   "source": []
  }
 ],
 "metadata": {
  "kernelspec": {
   "display_name": "Python 3",
   "language": "python",
   "name": "python3"
  },
  "language_info": {
   "codemirror_mode": {
    "name": "ipython",
    "version": 3
   },
   "file_extension": ".py",
   "mimetype": "text/x-python",
   "name": "python",
   "nbconvert_exporter": "python",
   "pygments_lexer": "ipython3",
   "version": "3.7.4"
  }
 },
 "nbformat": 4,
 "nbformat_minor": 2
}
