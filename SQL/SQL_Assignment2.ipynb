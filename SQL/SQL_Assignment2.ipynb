{
 "cells": [
  {
   "cell_type": "code",
   "execution_count": 1,
   "metadata": {},
   "outputs": [],
   "source": [
    "##1\n",
    " SELECT LEFT(first_name,3) as initials from employees;"
   ]
  },
  {
   "cell_type": "code",
   "execution_count": 2,
   "metadata": {},
   "outputs": [],
   "source": [
    "##2\n",
    " select position(\"a\" in \"amitabh\") as alpha_position;"
   ]
  },
  {
   "cell_type": "code",
   "execution_count": null,
   "metadata": {},
   "outputs": [],
   "source": [
    "##3\n",
    "SELECT \n",
    "    e.emp_no, e.first_name, d.dept_name, s.salary\n",
    "FROM\n",
    "    employees e\n",
    "        JOIN\n",
    "    salaries s ON e.emp_no = s.emp_no\n",
    "        JOIN\n",
    "    dept_emp de ON s.emp_no = de.emp_no\n",
    "        JOIN\n",
    "    departments d ON de.dept_no = d.dept_no\n",
    "WHERE\n",
    "    (s.salary , de.dept_no) IN (SELECT \n",
    "            MAX(s.salary) AS Emp_Salary, de.dept_no AS Dept_No\n",
    "        FROM\n",
    "            salaries s\n",
    "                JOIN\n",
    "            dept_emp de ON s.emp_no = de.emp_no\n",
    "        GROUP BY de.dept_no);"
   ]
  }
 ],
 "metadata": {
  "kernelspec": {
   "display_name": "Python 3",
   "language": "python",
   "name": "python3"
  },
  "language_info": {
   "codemirror_mode": {
    "name": "ipython",
    "version": 3
   },
   "file_extension": ".py",
   "mimetype": "text/x-python",
   "name": "python",
   "nbconvert_exporter": "python",
   "pygments_lexer": "ipython3",
   "version": "3.7.4"
  }
 },
 "nbformat": 4,
 "nbformat_minor": 2
}
