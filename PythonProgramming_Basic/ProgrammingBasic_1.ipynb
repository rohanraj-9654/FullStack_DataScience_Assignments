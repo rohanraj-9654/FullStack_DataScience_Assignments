{
 "cells": [
  {
   "cell_type": "code",
   "execution_count": 1,
   "metadata": {},
   "outputs": [
    {
     "name": "stdout",
     "output_type": "stream",
     "text": [
      "Hello Python\n"
     ]
    }
   ],
   "source": [
    "##1\n",
    "print('Hello Python')"
   ]
  },
  {
   "cell_type": "code",
   "execution_count": 2,
   "metadata": {},
   "outputs": [
    {
     "name": "stdout",
     "output_type": "stream",
     "text": [
      "30\n",
      "2.0\n"
     ]
    }
   ],
   "source": [
    "##2\n",
    "a=20\n",
    "b=10\n",
    "print(a+b)\n",
    "print(a/b)"
   ]
  },
  {
   "cell_type": "code",
   "execution_count": 6,
   "metadata": {},
   "outputs": [
    {
     "name": "stdout",
     "output_type": "stream",
     "text": [
      "Enter Base value: 6\n",
      "Enter Height value: 7\n",
      "Triangle area is : 21.0\n"
     ]
    }
   ],
   "source": [
    "##3\n",
    "base = int(input('Enter Base value: '))\n",
    "height = int(input('Enter Height value: '))\n",
    "A=1/2*base*height\n",
    "print('Triangle area is : {}'.format(A))"
   ]
  },
  {
   "cell_type": "code",
   "execution_count": 8,
   "metadata": {},
   "outputs": [
    {
     "name": "stdout",
     "output_type": "stream",
     "text": [
      "Value of a is 10 and Value of b is 5\n"
     ]
    }
   ],
   "source": [
    "##4\n",
    "a=5\n",
    "b=10\n",
    "temp = a\n",
    "a = b\n",
    "b = temp\n",
    "print('Value of a is {} and Value of b is {}'.format(a,b))"
   ]
  },
  {
   "cell_type": "code",
   "execution_count": 9,
   "metadata": {},
   "outputs": [
    {
     "name": "stdout",
     "output_type": "stream",
     "text": [
      "351\n"
     ]
    }
   ],
   "source": [
    "##5\n",
    "import random\n",
    "print(random.randint(0,500))"
   ]
  }
 ],
 "metadata": {
  "kernelspec": {
   "display_name": "Python 3",
   "language": "python",
   "name": "python3"
  },
  "language_info": {
   "codemirror_mode": {
    "name": "ipython",
    "version": 3
   },
   "file_extension": ".py",
   "mimetype": "text/x-python",
   "name": "python",
   "nbconvert_exporter": "python",
   "pygments_lexer": "ipython3",
   "version": "3.7.4"
  }
 },
 "nbformat": 4,
 "nbformat_minor": 2
}
